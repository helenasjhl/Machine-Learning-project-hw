{
  "nbformat": 4,
  "nbformat_minor": 0,
  "metadata": {
    "colab": {
      "provenance": []
    },
    "kernelspec": {
      "name": "python3",
      "display_name": "Python 3"
    },
    "language_info": {
      "name": "python"
    }
  },
  "cells": [
    {
      "cell_type": "markdown",
      "source": [
        "Könyvtárak importálása:\n"
      ],
      "metadata": {
        "id": "p4GTRLijFrrY"
      }
    },
    {
      "cell_type": "code",
      "execution_count": null,
      "metadata": {
        "id": "pDUWJaIuFqSQ"
      },
      "outputs": [],
      "source": [
        "import pandas as pd\n",
        "from sklearn.model_selection import train_test_split, cross_val_score, RepeatedStratifiedKFold, GridSearchCV\n",
        "from sklearn.tree import DecisionTreeClassifier\n",
        "from sklearn.preprocessing import LabelEncoder, StandardScaler\n",
        "from sklearn.ensemble import RandomForestClassifier\n",
        "from sklearn.metrics import accuracy_score, classification_report, confusion_matrix\n",
        "from xgboost import XGBClassifier\n",
        "import numpy as np"
      ]
    },
    {
      "cell_type": "markdown",
      "source": [
        "Beolvassuk fájlt"
      ],
      "metadata": {
        "id": "TQ2QTSlFFrOi"
      }
    },
    {
      "cell_type": "code",
      "source": [
        "student_spending = pd.read_csv('xstudent_spending.csv')\n",
        "student_spending\n",
        "\n"
      ],
      "metadata": {
        "colab": {
          "base_uri": "https://localhost:8080/",
          "height": 565
        },
        "id": "ibYYOD96GS75",
        "outputId": "a2d5aa2e-99eb-4fb1-bffa-03880c129ccf"
      },
      "execution_count": null,
      "outputs": [
        {
          "output_type": "execute_result",
          "data": {
            "text/plain": [
              "     Unnamed: 0  age      gender year_in_school             major  \\\n",
              "0             0   19  Non-binary       Freshman        Psychology   \n",
              "1             1   24      Female         Junior         Economics   \n",
              "2             2   24  Non-binary         Junior         Economics   \n",
              "3             3   23      Female         Senior  Computer Science   \n",
              "4             4   20      Female         Senior  Computer Science   \n",
              "..          ...  ...         ...            ...               ...   \n",
              "995         995   22      Female         Senior           Biology   \n",
              "996         996   19      Female         Senior           Biology   \n",
              "997         997   20        Male         Junior         Economics   \n",
              "998         998   22  Non-binary         Senior         Economics   \n",
              "999         999   24  Non-binary      Sophomore  Computer Science   \n",
              "\n",
              "     monthly_income  financial_aid  tuition  housing  food  transportation  \\\n",
              "0               958            270     5939      709   296             123   \n",
              "1              1006            875     4908      557   365              85   \n",
              "2               734            928     3051      666   220             137   \n",
              "3               617            265     4935      652   289             114   \n",
              "4               810            522     3887      825   372             168   \n",
              "..              ...            ...      ...      ...   ...             ...   \n",
              "995            1346            520     3688      969   152             194   \n",
              "996            1407            560     3380      508   265              52   \n",
              "997             957            393     3497      723   339             139   \n",
              "998            1174            612     3649      543   237             123   \n",
              "999             541            640     5965      609   270             191   \n",
              "\n",
              "     books_supplies  entertainment  personal_care  technology  \\\n",
              "0               188             41             78         134   \n",
              "1               252             74             92         226   \n",
              "2                99            130             23         239   \n",
              "3               223             99             30         163   \n",
              "4               194             48             71          88   \n",
              "..              ...            ...            ...         ...   \n",
              "995             151             42             38         252   \n",
              "996             206             40             98         274   \n",
              "997              69            112             46         284   \n",
              "998             200            129             90         190   \n",
              "999             215            139             43         281   \n",
              "\n",
              "     health_wellness  miscellaneous preferred_payment_method  \n",
              "0                127             72        Credit/Debit Card  \n",
              "1                129             68        Credit/Debit Card  \n",
              "2                112            133                     Cash  \n",
              "3                105             55       Mobile Payment App  \n",
              "4                 71            104        Credit/Debit Card  \n",
              "..               ...            ...                      ...  \n",
              "995               65            163                     Cash  \n",
              "996               84            135       Mobile Payment App  \n",
              "997               57             28       Mobile Payment App  \n",
              "998              101             65       Mobile Payment App  \n",
              "999               88            145                     Cash  \n",
              "\n",
              "[1000 rows x 18 columns]"
            ],
            "text/html": [
              "\n",
              "  <div id=\"df-ebb5f54a-aa5b-499e-8302-d7275d70f8c1\" class=\"colab-df-container\">\n",
              "    <div>\n",
              "<style scoped>\n",
              "    .dataframe tbody tr th:only-of-type {\n",
              "        vertical-align: middle;\n",
              "    }\n",
              "\n",
              "    .dataframe tbody tr th {\n",
              "        vertical-align: top;\n",
              "    }\n",
              "\n",
              "    .dataframe thead th {\n",
              "        text-align: right;\n",
              "    }\n",
              "</style>\n",
              "<table border=\"1\" class=\"dataframe\">\n",
              "  <thead>\n",
              "    <tr style=\"text-align: right;\">\n",
              "      <th></th>\n",
              "      <th>Unnamed: 0</th>\n",
              "      <th>age</th>\n",
              "      <th>gender</th>\n",
              "      <th>year_in_school</th>\n",
              "      <th>major</th>\n",
              "      <th>monthly_income</th>\n",
              "      <th>financial_aid</th>\n",
              "      <th>tuition</th>\n",
              "      <th>housing</th>\n",
              "      <th>food</th>\n",
              "      <th>transportation</th>\n",
              "      <th>books_supplies</th>\n",
              "      <th>entertainment</th>\n",
              "      <th>personal_care</th>\n",
              "      <th>technology</th>\n",
              "      <th>health_wellness</th>\n",
              "      <th>miscellaneous</th>\n",
              "      <th>preferred_payment_method</th>\n",
              "    </tr>\n",
              "  </thead>\n",
              "  <tbody>\n",
              "    <tr>\n",
              "      <th>0</th>\n",
              "      <td>0</td>\n",
              "      <td>19</td>\n",
              "      <td>Non-binary</td>\n",
              "      <td>Freshman</td>\n",
              "      <td>Psychology</td>\n",
              "      <td>958</td>\n",
              "      <td>270</td>\n",
              "      <td>5939</td>\n",
              "      <td>709</td>\n",
              "      <td>296</td>\n",
              "      <td>123</td>\n",
              "      <td>188</td>\n",
              "      <td>41</td>\n",
              "      <td>78</td>\n",
              "      <td>134</td>\n",
              "      <td>127</td>\n",
              "      <td>72</td>\n",
              "      <td>Credit/Debit Card</td>\n",
              "    </tr>\n",
              "    <tr>\n",
              "      <th>1</th>\n",
              "      <td>1</td>\n",
              "      <td>24</td>\n",
              "      <td>Female</td>\n",
              "      <td>Junior</td>\n",
              "      <td>Economics</td>\n",
              "      <td>1006</td>\n",
              "      <td>875</td>\n",
              "      <td>4908</td>\n",
              "      <td>557</td>\n",
              "      <td>365</td>\n",
              "      <td>85</td>\n",
              "      <td>252</td>\n",
              "      <td>74</td>\n",
              "      <td>92</td>\n",
              "      <td>226</td>\n",
              "      <td>129</td>\n",
              "      <td>68</td>\n",
              "      <td>Credit/Debit Card</td>\n",
              "    </tr>\n",
              "    <tr>\n",
              "      <th>2</th>\n",
              "      <td>2</td>\n",
              "      <td>24</td>\n",
              "      <td>Non-binary</td>\n",
              "      <td>Junior</td>\n",
              "      <td>Economics</td>\n",
              "      <td>734</td>\n",
              "      <td>928</td>\n",
              "      <td>3051</td>\n",
              "      <td>666</td>\n",
              "      <td>220</td>\n",
              "      <td>137</td>\n",
              "      <td>99</td>\n",
              "      <td>130</td>\n",
              "      <td>23</td>\n",
              "      <td>239</td>\n",
              "      <td>112</td>\n",
              "      <td>133</td>\n",
              "      <td>Cash</td>\n",
              "    </tr>\n",
              "    <tr>\n",
              "      <th>3</th>\n",
              "      <td>3</td>\n",
              "      <td>23</td>\n",
              "      <td>Female</td>\n",
              "      <td>Senior</td>\n",
              "      <td>Computer Science</td>\n",
              "      <td>617</td>\n",
              "      <td>265</td>\n",
              "      <td>4935</td>\n",
              "      <td>652</td>\n",
              "      <td>289</td>\n",
              "      <td>114</td>\n",
              "      <td>223</td>\n",
              "      <td>99</td>\n",
              "      <td>30</td>\n",
              "      <td>163</td>\n",
              "      <td>105</td>\n",
              "      <td>55</td>\n",
              "      <td>Mobile Payment App</td>\n",
              "    </tr>\n",
              "    <tr>\n",
              "      <th>4</th>\n",
              "      <td>4</td>\n",
              "      <td>20</td>\n",
              "      <td>Female</td>\n",
              "      <td>Senior</td>\n",
              "      <td>Computer Science</td>\n",
              "      <td>810</td>\n",
              "      <td>522</td>\n",
              "      <td>3887</td>\n",
              "      <td>825</td>\n",
              "      <td>372</td>\n",
              "      <td>168</td>\n",
              "      <td>194</td>\n",
              "      <td>48</td>\n",
              "      <td>71</td>\n",
              "      <td>88</td>\n",
              "      <td>71</td>\n",
              "      <td>104</td>\n",
              "      <td>Credit/Debit Card</td>\n",
              "    </tr>\n",
              "    <tr>\n",
              "      <th>...</th>\n",
              "      <td>...</td>\n",
              "      <td>...</td>\n",
              "      <td>...</td>\n",
              "      <td>...</td>\n",
              "      <td>...</td>\n",
              "      <td>...</td>\n",
              "      <td>...</td>\n",
              "      <td>...</td>\n",
              "      <td>...</td>\n",
              "      <td>...</td>\n",
              "      <td>...</td>\n",
              "      <td>...</td>\n",
              "      <td>...</td>\n",
              "      <td>...</td>\n",
              "      <td>...</td>\n",
              "      <td>...</td>\n",
              "      <td>...</td>\n",
              "      <td>...</td>\n",
              "    </tr>\n",
              "    <tr>\n",
              "      <th>995</th>\n",
              "      <td>995</td>\n",
              "      <td>22</td>\n",
              "      <td>Female</td>\n",
              "      <td>Senior</td>\n",
              "      <td>Biology</td>\n",
              "      <td>1346</td>\n",
              "      <td>520</td>\n",
              "      <td>3688</td>\n",
              "      <td>969</td>\n",
              "      <td>152</td>\n",
              "      <td>194</td>\n",
              "      <td>151</td>\n",
              "      <td>42</td>\n",
              "      <td>38</td>\n",
              "      <td>252</td>\n",
              "      <td>65</td>\n",
              "      <td>163</td>\n",
              "      <td>Cash</td>\n",
              "    </tr>\n",
              "    <tr>\n",
              "      <th>996</th>\n",
              "      <td>996</td>\n",
              "      <td>19</td>\n",
              "      <td>Female</td>\n",
              "      <td>Senior</td>\n",
              "      <td>Biology</td>\n",
              "      <td>1407</td>\n",
              "      <td>560</td>\n",
              "      <td>3380</td>\n",
              "      <td>508</td>\n",
              "      <td>265</td>\n",
              "      <td>52</td>\n",
              "      <td>206</td>\n",
              "      <td>40</td>\n",
              "      <td>98</td>\n",
              "      <td>274</td>\n",
              "      <td>84</td>\n",
              "      <td>135</td>\n",
              "      <td>Mobile Payment App</td>\n",
              "    </tr>\n",
              "    <tr>\n",
              "      <th>997</th>\n",
              "      <td>997</td>\n",
              "      <td>20</td>\n",
              "      <td>Male</td>\n",
              "      <td>Junior</td>\n",
              "      <td>Economics</td>\n",
              "      <td>957</td>\n",
              "      <td>393</td>\n",
              "      <td>3497</td>\n",
              "      <td>723</td>\n",
              "      <td>339</td>\n",
              "      <td>139</td>\n",
              "      <td>69</td>\n",
              "      <td>112</td>\n",
              "      <td>46</td>\n",
              "      <td>284</td>\n",
              "      <td>57</td>\n",
              "      <td>28</td>\n",
              "      <td>Mobile Payment App</td>\n",
              "    </tr>\n",
              "    <tr>\n",
              "      <th>998</th>\n",
              "      <td>998</td>\n",
              "      <td>22</td>\n",
              "      <td>Non-binary</td>\n",
              "      <td>Senior</td>\n",
              "      <td>Economics</td>\n",
              "      <td>1174</td>\n",
              "      <td>612</td>\n",
              "      <td>3649</td>\n",
              "      <td>543</td>\n",
              "      <td>237</td>\n",
              "      <td>123</td>\n",
              "      <td>200</td>\n",
              "      <td>129</td>\n",
              "      <td>90</td>\n",
              "      <td>190</td>\n",
              "      <td>101</td>\n",
              "      <td>65</td>\n",
              "      <td>Mobile Payment App</td>\n",
              "    </tr>\n",
              "    <tr>\n",
              "      <th>999</th>\n",
              "      <td>999</td>\n",
              "      <td>24</td>\n",
              "      <td>Non-binary</td>\n",
              "      <td>Sophomore</td>\n",
              "      <td>Computer Science</td>\n",
              "      <td>541</td>\n",
              "      <td>640</td>\n",
              "      <td>5965</td>\n",
              "      <td>609</td>\n",
              "      <td>270</td>\n",
              "      <td>191</td>\n",
              "      <td>215</td>\n",
              "      <td>139</td>\n",
              "      <td>43</td>\n",
              "      <td>281</td>\n",
              "      <td>88</td>\n",
              "      <td>145</td>\n",
              "      <td>Cash</td>\n",
              "    </tr>\n",
              "  </tbody>\n",
              "</table>\n",
              "<p>1000 rows × 18 columns</p>\n",
              "</div>\n",
              "    <div class=\"colab-df-buttons\">\n",
              "\n",
              "  <div class=\"colab-df-container\">\n",
              "    <button class=\"colab-df-convert\" onclick=\"convertToInteractive('df-ebb5f54a-aa5b-499e-8302-d7275d70f8c1')\"\n",
              "            title=\"Convert this dataframe to an interactive table.\"\n",
              "            style=\"display:none;\">\n",
              "\n",
              "  <svg xmlns=\"http://www.w3.org/2000/svg\" height=\"24px\" viewBox=\"0 -960 960 960\">\n",
              "    <path d=\"M120-120v-720h720v720H120Zm60-500h600v-160H180v160Zm220 220h160v-160H400v160Zm0 220h160v-160H400v160ZM180-400h160v-160H180v160Zm440 0h160v-160H620v160ZM180-180h160v-160H180v160Zm440 0h160v-160H620v160Z\"/>\n",
              "  </svg>\n",
              "    </button>\n",
              "\n",
              "  <style>\n",
              "    .colab-df-container {\n",
              "      display:flex;\n",
              "      gap: 12px;\n",
              "    }\n",
              "\n",
              "    .colab-df-convert {\n",
              "      background-color: #E8F0FE;\n",
              "      border: none;\n",
              "      border-radius: 50%;\n",
              "      cursor: pointer;\n",
              "      display: none;\n",
              "      fill: #1967D2;\n",
              "      height: 32px;\n",
              "      padding: 0 0 0 0;\n",
              "      width: 32px;\n",
              "    }\n",
              "\n",
              "    .colab-df-convert:hover {\n",
              "      background-color: #E2EBFA;\n",
              "      box-shadow: 0px 1px 2px rgba(60, 64, 67, 0.3), 0px 1px 3px 1px rgba(60, 64, 67, 0.15);\n",
              "      fill: #174EA6;\n",
              "    }\n",
              "\n",
              "    .colab-df-buttons div {\n",
              "      margin-bottom: 4px;\n",
              "    }\n",
              "\n",
              "    [theme=dark] .colab-df-convert {\n",
              "      background-color: #3B4455;\n",
              "      fill: #D2E3FC;\n",
              "    }\n",
              "\n",
              "    [theme=dark] .colab-df-convert:hover {\n",
              "      background-color: #434B5C;\n",
              "      box-shadow: 0px 1px 3px 1px rgba(0, 0, 0, 0.15);\n",
              "      filter: drop-shadow(0px 1px 2px rgba(0, 0, 0, 0.3));\n",
              "      fill: #FFFFFF;\n",
              "    }\n",
              "  </style>\n",
              "\n",
              "    <script>\n",
              "      const buttonEl =\n",
              "        document.querySelector('#df-ebb5f54a-aa5b-499e-8302-d7275d70f8c1 button.colab-df-convert');\n",
              "      buttonEl.style.display =\n",
              "        google.colab.kernel.accessAllowed ? 'block' : 'none';\n",
              "\n",
              "      async function convertToInteractive(key) {\n",
              "        const element = document.querySelector('#df-ebb5f54a-aa5b-499e-8302-d7275d70f8c1');\n",
              "        const dataTable =\n",
              "          await google.colab.kernel.invokeFunction('convertToInteractive',\n",
              "                                                    [key], {});\n",
              "        if (!dataTable) return;\n",
              "\n",
              "        const docLinkHtml = 'Like what you see? Visit the ' +\n",
              "          '<a target=\"_blank\" href=https://colab.research.google.com/notebooks/data_table.ipynb>data table notebook</a>'\n",
              "          + ' to learn more about interactive tables.';\n",
              "        element.innerHTML = '';\n",
              "        dataTable['output_type'] = 'display_data';\n",
              "        await google.colab.output.renderOutput(dataTable, element);\n",
              "        const docLink = document.createElement('div');\n",
              "        docLink.innerHTML = docLinkHtml;\n",
              "        element.appendChild(docLink);\n",
              "      }\n",
              "    </script>\n",
              "  </div>\n",
              "\n",
              "\n",
              "<div id=\"df-f51b17f7-564e-4855-b19f-82bcac2707ef\">\n",
              "  <button class=\"colab-df-quickchart\" onclick=\"quickchart('df-f51b17f7-564e-4855-b19f-82bcac2707ef')\"\n",
              "            title=\"Suggest charts\"\n",
              "            style=\"display:none;\">\n",
              "\n",
              "<svg xmlns=\"http://www.w3.org/2000/svg\" height=\"24px\"viewBox=\"0 0 24 24\"\n",
              "     width=\"24px\">\n",
              "    <g>\n",
              "        <path d=\"M19 3H5c-1.1 0-2 .9-2 2v14c0 1.1.9 2 2 2h14c1.1 0 2-.9 2-2V5c0-1.1-.9-2-2-2zM9 17H7v-7h2v7zm4 0h-2V7h2v10zm4 0h-2v-4h2v4z\"/>\n",
              "    </g>\n",
              "</svg>\n",
              "  </button>\n",
              "\n",
              "<style>\n",
              "  .colab-df-quickchart {\n",
              "      --bg-color: #E8F0FE;\n",
              "      --fill-color: #1967D2;\n",
              "      --hover-bg-color: #E2EBFA;\n",
              "      --hover-fill-color: #174EA6;\n",
              "      --disabled-fill-color: #AAA;\n",
              "      --disabled-bg-color: #DDD;\n",
              "  }\n",
              "\n",
              "  [theme=dark] .colab-df-quickchart {\n",
              "      --bg-color: #3B4455;\n",
              "      --fill-color: #D2E3FC;\n",
              "      --hover-bg-color: #434B5C;\n",
              "      --hover-fill-color: #FFFFFF;\n",
              "      --disabled-bg-color: #3B4455;\n",
              "      --disabled-fill-color: #666;\n",
              "  }\n",
              "\n",
              "  .colab-df-quickchart {\n",
              "    background-color: var(--bg-color);\n",
              "    border: none;\n",
              "    border-radius: 50%;\n",
              "    cursor: pointer;\n",
              "    display: none;\n",
              "    fill: var(--fill-color);\n",
              "    height: 32px;\n",
              "    padding: 0;\n",
              "    width: 32px;\n",
              "  }\n",
              "\n",
              "  .colab-df-quickchart:hover {\n",
              "    background-color: var(--hover-bg-color);\n",
              "    box-shadow: 0 1px 2px rgba(60, 64, 67, 0.3), 0 1px 3px 1px rgba(60, 64, 67, 0.15);\n",
              "    fill: var(--button-hover-fill-color);\n",
              "  }\n",
              "\n",
              "  .colab-df-quickchart-complete:disabled,\n",
              "  .colab-df-quickchart-complete:disabled:hover {\n",
              "    background-color: var(--disabled-bg-color);\n",
              "    fill: var(--disabled-fill-color);\n",
              "    box-shadow: none;\n",
              "  }\n",
              "\n",
              "  .colab-df-spinner {\n",
              "    border: 2px solid var(--fill-color);\n",
              "    border-color: transparent;\n",
              "    border-bottom-color: var(--fill-color);\n",
              "    animation:\n",
              "      spin 1s steps(1) infinite;\n",
              "  }\n",
              "\n",
              "  @keyframes spin {\n",
              "    0% {\n",
              "      border-color: transparent;\n",
              "      border-bottom-color: var(--fill-color);\n",
              "      border-left-color: var(--fill-color);\n",
              "    }\n",
              "    20% {\n",
              "      border-color: transparent;\n",
              "      border-left-color: var(--fill-color);\n",
              "      border-top-color: var(--fill-color);\n",
              "    }\n",
              "    30% {\n",
              "      border-color: transparent;\n",
              "      border-left-color: var(--fill-color);\n",
              "      border-top-color: var(--fill-color);\n",
              "      border-right-color: var(--fill-color);\n",
              "    }\n",
              "    40% {\n",
              "      border-color: transparent;\n",
              "      border-right-color: var(--fill-color);\n",
              "      border-top-color: var(--fill-color);\n",
              "    }\n",
              "    60% {\n",
              "      border-color: transparent;\n",
              "      border-right-color: var(--fill-color);\n",
              "    }\n",
              "    80% {\n",
              "      border-color: transparent;\n",
              "      border-right-color: var(--fill-color);\n",
              "      border-bottom-color: var(--fill-color);\n",
              "    }\n",
              "    90% {\n",
              "      border-color: transparent;\n",
              "      border-bottom-color: var(--fill-color);\n",
              "    }\n",
              "  }\n",
              "</style>\n",
              "\n",
              "  <script>\n",
              "    async function quickchart(key) {\n",
              "      const quickchartButtonEl =\n",
              "        document.querySelector('#' + key + ' button');\n",
              "      quickchartButtonEl.disabled = true;  // To prevent multiple clicks.\n",
              "      quickchartButtonEl.classList.add('colab-df-spinner');\n",
              "      try {\n",
              "        const charts = await google.colab.kernel.invokeFunction(\n",
              "            'suggestCharts', [key], {});\n",
              "      } catch (error) {\n",
              "        console.error('Error during call to suggestCharts:', error);\n",
              "      }\n",
              "      quickchartButtonEl.classList.remove('colab-df-spinner');\n",
              "      quickchartButtonEl.classList.add('colab-df-quickchart-complete');\n",
              "    }\n",
              "    (() => {\n",
              "      let quickchartButtonEl =\n",
              "        document.querySelector('#df-f51b17f7-564e-4855-b19f-82bcac2707ef button');\n",
              "      quickchartButtonEl.style.display =\n",
              "        google.colab.kernel.accessAllowed ? 'block' : 'none';\n",
              "    })();\n",
              "  </script>\n",
              "</div>\n",
              "    </div>\n",
              "  </div>\n"
            ],
            "application/vnd.google.colaboratory.intrinsic+json": {
              "type": "dataframe",
              "variable_name": "student_spending",
              "summary": "{\n  \"name\": \"student_spending\",\n  \"rows\": 1000,\n  \"fields\": [\n    {\n      \"column\": \"Unnamed: 0\",\n      \"properties\": {\n        \"dtype\": \"number\",\n        \"std\": 288,\n        \"min\": 0,\n        \"max\": 999,\n        \"num_unique_values\": 1000,\n        \"samples\": [\n          521,\n          737,\n          740\n        ],\n        \"semantic_type\": \"\",\n        \"description\": \"\"\n      }\n    },\n    {\n      \"column\": \"age\",\n      \"properties\": {\n        \"dtype\": \"number\",\n        \"std\": 2,\n        \"min\": 18,\n        \"max\": 25,\n        \"num_unique_values\": 8,\n        \"samples\": [\n          24,\n          22,\n          19\n        ],\n        \"semantic_type\": \"\",\n        \"description\": \"\"\n      }\n    },\n    {\n      \"column\": \"gender\",\n      \"properties\": {\n        \"dtype\": \"category\",\n        \"num_unique_values\": 3,\n        \"samples\": [\n          \"Non-binary\",\n          \"Female\",\n          \"Male\"\n        ],\n        \"semantic_type\": \"\",\n        \"description\": \"\"\n      }\n    },\n    {\n      \"column\": \"year_in_school\",\n      \"properties\": {\n        \"dtype\": \"category\",\n        \"num_unique_values\": 4,\n        \"samples\": [\n          \"Junior\",\n          \"Sophomore\",\n          \"Freshman\"\n        ],\n        \"semantic_type\": \"\",\n        \"description\": \"\"\n      }\n    },\n    {\n      \"column\": \"major\",\n      \"properties\": {\n        \"dtype\": \"category\",\n        \"num_unique_values\": 5,\n        \"samples\": [\n          \"Economics\",\n          \"Biology\",\n          \"Computer Science\"\n        ],\n        \"semantic_type\": \"\",\n        \"description\": \"\"\n      }\n    },\n    {\n      \"column\": \"monthly_income\",\n      \"properties\": {\n        \"dtype\": \"number\",\n        \"std\": 293,\n        \"min\": 501,\n        \"max\": 1500,\n        \"num_unique_values\": 619,\n        \"samples\": [\n          588,\n          1476,\n          1351\n        ],\n        \"semantic_type\": \"\",\n        \"description\": \"\"\n      }\n    },\n    {\n      \"column\": \"financial_aid\",\n      \"properties\": {\n        \"dtype\": \"number\",\n        \"std\": 287,\n        \"min\": 0,\n        \"max\": 1000,\n        \"num_unique_values\": 627,\n        \"samples\": [\n          683,\n          246,\n          756\n        ],\n        \"semantic_type\": \"\",\n        \"description\": \"\"\n      }\n    },\n    {\n      \"column\": \"tuition\",\n      \"properties\": {\n        \"dtype\": \"number\",\n        \"std\": 860,\n        \"min\": 3003,\n        \"max\": 6000,\n        \"num_unique_values\": 838,\n        \"samples\": [\n          3282,\n          4384,\n          5212\n        ],\n        \"semantic_type\": \"\",\n        \"description\": \"\"\n      }\n    },\n    {\n      \"column\": \"housing\",\n      \"properties\": {\n        \"dtype\": \"number\",\n        \"std\": 171,\n        \"min\": 401,\n        \"max\": 1000,\n        \"num_unique_values\": 501,\n        \"samples\": [\n          485,\n          631,\n          691\n        ],\n        \"semantic_type\": \"\",\n        \"description\": \"\"\n      }\n    },\n    {\n      \"column\": \"food\",\n      \"properties\": {\n        \"dtype\": \"number\",\n        \"std\": 86,\n        \"min\": 100,\n        \"max\": 400,\n        \"num_unique_values\": 290,\n        \"samples\": [\n          341,\n          351,\n          140\n        ],\n        \"semantic_type\": \"\",\n        \"description\": \"\"\n      }\n    },\n    {\n      \"column\": \"transportation\",\n      \"properties\": {\n        \"dtype\": \"number\",\n        \"std\": 43,\n        \"min\": 50,\n        \"max\": 200,\n        \"num_unique_values\": 151,\n        \"samples\": [\n          136,\n          131,\n          156\n        ],\n        \"semantic_type\": \"\",\n        \"description\": \"\"\n      }\n    },\n    {\n      \"column\": \"books_supplies\",\n      \"properties\": {\n        \"dtype\": \"number\",\n        \"std\": 72,\n        \"min\": 50,\n        \"max\": 300,\n        \"num_unique_values\": 244,\n        \"samples\": [\n          211,\n          213,\n          217\n        ],\n        \"semantic_type\": \"\",\n        \"description\": \"\"\n      }\n    },\n    {\n      \"column\": \"entertainment\",\n      \"properties\": {\n        \"dtype\": \"number\",\n        \"std\": 37,\n        \"min\": 20,\n        \"max\": 150,\n        \"num_unique_values\": 131,\n        \"samples\": [\n          105,\n          45,\n          62\n        ],\n        \"semantic_type\": \"\",\n        \"description\": \"\"\n      }\n    },\n    {\n      \"column\": \"personal_care\",\n      \"properties\": {\n        \"dtype\": \"number\",\n        \"std\": 22,\n        \"min\": 20,\n        \"max\": 100,\n        \"num_unique_values\": 81,\n        \"samples\": [\n          43,\n          78,\n          95\n        ],\n        \"semantic_type\": \"\",\n        \"description\": \"\"\n      }\n    },\n    {\n      \"column\": \"technology\",\n      \"properties\": {\n        \"dtype\": \"number\",\n        \"std\": 71,\n        \"min\": 50,\n        \"max\": 300,\n        \"num_unique_values\": 248,\n        \"samples\": [\n          228,\n          157,\n          158\n        ],\n        \"semantic_type\": \"\",\n        \"description\": \"\"\n      }\n    },\n    {\n      \"column\": \"health_wellness\",\n      \"properties\": {\n        \"dtype\": \"number\",\n        \"std\": 49,\n        \"min\": 30,\n        \"max\": 200,\n        \"num_unique_values\": 171,\n        \"samples\": [\n          102,\n          85,\n          30\n        ],\n        \"semantic_type\": \"\",\n        \"description\": \"\"\n      }\n    },\n    {\n      \"column\": \"miscellaneous\",\n      \"properties\": {\n        \"dtype\": \"number\",\n        \"std\": 52,\n        \"min\": 20,\n        \"max\": 200,\n        \"num_unique_values\": 180,\n        \"samples\": [\n          174,\n          39,\n          123\n        ],\n        \"semantic_type\": \"\",\n        \"description\": \"\"\n      }\n    },\n    {\n      \"column\": \"preferred_payment_method\",\n      \"properties\": {\n        \"dtype\": \"category\",\n        \"num_unique_values\": 3,\n        \"samples\": [\n          \"Credit/Debit Card\",\n          \"Cash\",\n          \"Mobile Payment App\"\n        ],\n        \"semantic_type\": \"\",\n        \"description\": \"\"\n      }\n    }\n  ]\n}"
            }
          },
          "metadata": {},
          "execution_count": 4
        }
      ]
    },
    {
      "cell_type": "code",
      "source": [
        "#átalakítjuk az oszlopunk értékeit hogy tudjunk vele dologzni\n",
        "student_spending[\"preferred_payment_method\"] = student_spending[\"preferred_payment_method\"].str.replace('Cash', '0')\n",
        "student_spending[\"preferred_payment_method\"] = student_spending[\"preferred_payment_method\"].str.replace('Credit/Debit Card', '1')\n",
        "student_spending[\"preferred_payment_method\"] = student_spending[\"preferred_payment_method\"].str.replace('Mobile Payment App', '2')\n",
        "student_spending[\"preferred_payment_method\"] = student_spending[\"preferred_payment_method\"].astype(float)\n",
        "student_spending.info()"
      ],
      "metadata": {
        "colab": {
          "base_uri": "https://localhost:8080/"
        },
        "id": "uNsfDx9gW1Lb",
        "outputId": "f56f8cd3-f97c-4a41-a4ef-bdf04d47606b"
      },
      "execution_count": null,
      "outputs": [
        {
          "output_type": "stream",
          "name": "stdout",
          "text": [
            "<class 'pandas.core.frame.DataFrame'>\n",
            "RangeIndex: 1000 entries, 0 to 999\n",
            "Data columns (total 18 columns):\n",
            " #   Column                    Non-Null Count  Dtype  \n",
            "---  ------                    --------------  -----  \n",
            " 0   Unnamed: 0                1000 non-null   int64  \n",
            " 1   age                       1000 non-null   int64  \n",
            " 2   gender                    1000 non-null   object \n",
            " 3   year_in_school            1000 non-null   object \n",
            " 4   major                     1000 non-null   object \n",
            " 5   monthly_income            1000 non-null   int64  \n",
            " 6   financial_aid             1000 non-null   int64  \n",
            " 7   tuition                   1000 non-null   int64  \n",
            " 8   housing                   1000 non-null   int64  \n",
            " 9   food                      1000 non-null   int64  \n",
            " 10  transportation            1000 non-null   int64  \n",
            " 11  books_supplies            1000 non-null   int64  \n",
            " 12  entertainment             1000 non-null   int64  \n",
            " 13  personal_care             1000 non-null   int64  \n",
            " 14  technology                1000 non-null   int64  \n",
            " 15  health_wellness           1000 non-null   int64  \n",
            " 16  miscellaneous             1000 non-null   int64  \n",
            " 17  preferred_payment_method  1000 non-null   float64\n",
            "dtypes: float64(1), int64(14), object(3)\n",
            "memory usage: 140.8+ KB\n"
          ]
        }
      ]
    },
    {
      "cell_type": "code",
      "source": [
        "# Kategorikus oszlopok átalakítása numerikus értékekké\n",
        "label_encoder = LabelEncoder()\n",
        "student_spending['gender'] = label_encoder.fit_transform(student_spending['gender'])\n",
        "student_spending['year_in_school'] = label_encoder.fit_transform(student_spending['year_in_school'])\n",
        "student_spending['major'] = label_encoder.fit_transform(student_spending['major'])"
      ],
      "metadata": {
        "id": "8q3jyBGoY7zZ"
      },
      "execution_count": null,
      "outputs": []
    },
    {
      "source": [
        "# @title preferred_payment_method\n",
        "\n",
        "from matplotlib import pyplot as plt\n",
        "import seaborn as sns\n",
        "student_spending.groupby('preferred_payment_method').size().plot(kind='barh', color=sns.palettes.mpl_palette('Dark2'))\n",
        "plt.gca().spines[['top', 'right',]].set_visible(False)"
      ],
      "cell_type": "code",
      "execution_count": null,
      "outputs": [
        {
          "output_type": "display_data",
          "data": {
            "text/plain": [
              "<Figure size 640x480 with 1 Axes>"
            ],
            "image/png": "[encoded data removed]"
          },
          "metadata": {}
        }
      ],
      "metadata": {
        "colab": {
          "base_uri": "https://localhost:8080/",
          "height": 430
        },
        "id": "ozIkY5nuHCsX",
        "outputId": "3d805cdf-8744-4edb-855a-6b9c676092c6"
      }
    },
    {
      "cell_type": "markdown",
      "source": [
        "Az alábbi diagrammon, lláthatjuk, hogy hasonló számban oszlanak el a fizetési szokások."
      ],
      "metadata": {
        "id": "8yzsY21E0Uhc"
      }
    },
    {
      "cell_type": "code",
      "source": [
        "#Kidobjuk azokat a sorokat, ahol duplikált az érték.\n",
        "student_spending=student_spending.drop_duplicates()\n",
        "print('Shape After deleting duplicate values:', student_spending.shape)"
      ],
      "metadata": {
        "colab": {
          "base_uri": "https://localhost:8080/"
        },
        "id": "k4bmYJIpG1xl",
        "outputId": "eb138261-c713-4e82-acee-f011cf094c95"
      },
      "execution_count": null,
      "outputs": [
        {
          "output_type": "stream",
          "name": "stdout",
          "text": [
            "Shape After deleting duplicate values: (1000, 18)\n"
          ]
        }
      ]
    },
    {
      "cell_type": "code",
      "source": [
        "#Kidobjuk azokat a sorokat, ahol nincs érték.\n",
        "student_spending.dropna(inplace=True)\n",
        "print('Shape After deleting missing values:', student_spending.shape)"
      ],
      "metadata": {
        "colab": {
          "base_uri": "https://localhost:8080/"
        },
        "id": "jbRPsM5ENkkD",
        "outputId": "9dff2472-7b2f-48a6-902f-0264359f8b27"
      },
      "execution_count": null,
      "outputs": [
        {
          "output_type": "stream",
          "name": "stdout",
          "text": [
            "Shape After deleting missing values: (1000, 18)\n"
          ]
        }
      ]
    },
    {
      "cell_type": "markdown",
      "source": [
        "### **A modell tanítása**"
      ],
      "metadata": {
        "id": "m3AVwmDANYyq"
      }
    },
    {
      "cell_type": "code",
      "source": [
        "# ez a függvény a modell teljesítményét adja vissza (accuracy, classification report és confusion matrix)\n",
        "def model_performance(y_test,y_pred, method):\n",
        "\n",
        "    # calculate the accruacy of the model\n",
        "    print(\"Accuracy score of the model\", accuracy_score(y_test,y_pred))\n",
        "    print(\"Classification report \\n\")\n",
        "\n",
        "    #generate the classification report\n",
        "    print(classification_report(y_test,y_pred))\n",
        "\n",
        "    #generate the confusion matrix\n",
        "\n",
        "    cnf_matrix_log = confusion_matrix(y_test, y_pred)\n",
        "\n",
        "    print(cnf_matrix_log)"
      ],
      "metadata": {
        "id": "8jAkrH22UC1O"
      },
      "execution_count": null,
      "outputs": []
    },
    {
      "cell_type": "code",
      "source": [
        "# Felosztás tanító és teszt adatokra\n",
        "X = student_spending.drop(['preferred_payment_method'], axis=1)  # Független változók\n",
        "y = student_spending['preferred_payment_method']  # Célváltozó\n",
        "X_train, X_test, y_train, y_test = train_test_split(X, y, test_size=0.2, random_state=42)"
      ],
      "metadata": {
        "id": "Y8LnSTTaUNpV"
      },
      "execution_count": null,
      "outputs": []
    },
    {
      "cell_type": "markdown",
      "source": [
        "1. Döntési fa osztályozó modell"
      ],
      "metadata": {
        "id": "aBQ1Vb4BjEMD"
      }
    },
    {
      "cell_type": "code",
      "source": [
        "# Döntési fa osztályozó modell létrehozása és tanítása\n",
        "clf = DecisionTreeClassifier(random_state=42)\n",
        "clf.fit(X_train, y_train)"
      ],
      "metadata": {
        "colab": {
          "base_uri": "https://localhost:8080/",
          "height": 74
        },
        "id": "z1qqFWedWBS_",
        "outputId": "93ab5932-4881-4962-f3c4-a107312bb1aa"
      },
      "execution_count": null,
      "outputs": [
        {
          "output_type": "execute_result",
          "data": {
            "text/plain": [
              "DecisionTreeClassifier(random_state=42)"
            ],
            "text/html": [
              "<style>#sk-container-id-1 {color: black;background-color: white;}#sk-container-id-1 pre{padding: 0;}#sk-container-id-1 div.sk-toggleable {background-color: white;}#sk-container-id-1 label.sk-toggleable__label {cursor: pointer;display: block;width: 100%;margin-bottom: 0;padding: 0.3em;box-sizing: border-box;text-align: center;}#sk-container-id-1 label.sk-toggleable__label-arrow:before {content: \"▸\";float: left;margin-right: 0.25em;color: #696969;}#sk-container-id-1 label.sk-toggleable__label-arrow:hover:before {color: black;}#sk-container-id-1 div.sk-estimator:hover label.sk-toggleable__label-arrow:before {color: black;}#sk-container-id-1 div.sk-toggleable__content {max-height: 0;max-width: 0;overflow: hidden;text-align: left;background-color: #f0f8ff;}#sk-container-id-1 div.sk-toggleable__content pre {margin: 0.2em;color: black;border-radius: 0.25em;background-color: #f0f8ff;}#sk-container-id-1 input.sk-toggleable__control:checked~div.sk-toggleable__content {max-height: 200px;max-width: 100%;overflow: auto;}#sk-container-id-1 input.sk-toggleable__control:checked~label.sk-toggleable__label-arrow:before {content: \"▾\";}#sk-container-id-1 div.sk-estimator input.sk-toggleable__control:checked~label.sk-toggleable__label {background-color: #d4ebff;}#sk-container-id-1 div.sk-label input.sk-toggleable__control:checked~label.sk-toggleable__label {background-color: #d4ebff;}#sk-container-id-1 input.sk-hidden--visually {border: 0;clip: rect(1px 1px 1px 1px);clip: rect(1px, 1px, 1px, 1px);height: 1px;margin: -1px;overflow: hidden;padding: 0;position: absolute;width: 1px;}#sk-container-id-1 div.sk-estimator {font-family: monospace;background-color: #f0f8ff;border: 1px dotted black;border-radius: 0.25em;box-sizing: border-box;margin-bottom: 0.5em;}#sk-container-id-1 div.sk-estimator:hover {background-color: #d4ebff;}#sk-container-id-1 div.sk-parallel-item::after {content: \"\";width: 100%;border-bottom: 1px solid gray;flex-grow: 1;}#sk-container-id-1 div.sk-label:hover label.sk-toggleable__label {background-color: #d4ebff;}#sk-container-id-1 div.sk-serial::before {content: \"\";position: absolute;border-left: 1px solid gray;box-sizing: border-box;top: 0;bottom: 0;left: 50%;z-index: 0;}#sk-container-id-1 div.sk-serial {display: flex;flex-direction: column;align-items: center;background-color: white;padding-right: 0.2em;padding-left: 0.2em;position: relative;}#sk-container-id-1 div.sk-item {position: relative;z-index: 1;}#sk-container-id-1 div.sk-parallel {display: flex;align-items: stretch;justify-content: center;background-color: white;position: relative;}#sk-container-id-1 div.sk-item::before, #sk-container-id-1 div.sk-parallel-item::before {content: \"\";position: absolute;border-left: 1px solid gray;box-sizing: border-box;top: 0;bottom: 0;left: 50%;z-index: -1;}#sk-container-id-1 div.sk-parallel-item {display: flex;flex-direction: column;z-index: 1;position: relative;background-color: white;}#sk-container-id-1 div.sk-parallel-item:first-child::after {align-self: flex-end;width: 50%;}#sk-container-id-1 div.sk-parallel-item:last-child::after {align-self: flex-start;width: 50%;}#sk-container-id-1 div.sk-parallel-item:only-child::after {width: 0;}#sk-container-id-1 div.sk-dashed-wrapped {border: 1px dashed gray;margin: 0 0.4em 0.5em 0.4em;box-sizing: border-box;padding-bottom: 0.4em;background-color: white;}#sk-container-id-1 div.sk-label label {font-family: monospace;font-weight: bold;display: inline-block;line-height: 1.2em;}#sk-container-id-1 div.sk-label-container {text-align: center;}#sk-container-id-1 div.sk-container {/* jupyter's `normalize.less` sets `[hidden] { display: none; }` but bootstrap.min.css set `[hidden] { display: none !important; }` so we also need the `!important` here to be able to override the default hidden behavior on the sphinx rendered scikit-learn.org. See: https://github.com/scikit-learn/scikit-learn/issues/21755 */display: inline-block !important;position: relative;}#sk-container-id-1 div.sk-text-repr-fallback {display: none;}</style><div id=\"sk-container-id-1\" class=\"sk-top-container\"><div class=\"sk-text-repr-fallback\"><pre>DecisionTreeClassifier(random_state=42)</pre><b>In a Jupyter environment, please rerun this cell to show the HTML representation or trust the notebook. <br />On GitHub, the HTML representation is unable to render, please try loading this page with nbviewer.org.</b></div><div class=\"sk-container\" hidden><div class=\"sk-item\"><div class=\"sk-estimator sk-toggleable\"><input class=\"sk-toggleable__control sk-hidden--visually\" id=\"sk-estimator-id-1\" type=\"checkbox\" checked><label for=\"sk-estimator-id-1\" class=\"sk-toggleable__label sk-toggleable__label-arrow\">DecisionTreeClassifier</label><div class=\"sk-toggleable__content\"><pre>DecisionTreeClassifier(random_state=42)</pre></div></div></div></div></div>"
            ]
          },
          "metadata": {},
          "execution_count": 40
        }
      ]
    },
    {
      "cell_type": "markdown",
      "source": [
        "Amikor az algoritmus véletlenszerű döntéseket hoz, például az adatok megosztása a tanító- és tesztadatok között, vagy a fa csomópontjainak kiválasztása, a random_state beállítása garantálja, hogy ugyanazokat a véletlenszerű eredményeket kapjuk minden egyes futásnál. Ez kiszámíthatóvá és reprodukálhatóvá teszi az eredményeket."
      ],
      "metadata": {
        "id": "4XRxTSq4lXVP"
      }
    },
    {
      "cell_type": "code",
      "source": [
        "# Tesztelés a modell pontosságának ellenőrzésére\n",
        "y_pred = clf.predict(X_test)\n",
        "accuracy = accuracy_score(y_test, y_pred)\n",
        "print(\"Pontosság:\", accuracy)"
      ],
      "metadata": {
        "colab": {
          "base_uri": "https://localhost:8080/"
        },
        "id": "luzZcwGjZsn_",
        "outputId": "729bb12b-cc75-4d14-c2c3-15515d5a6fb1"
      },
      "execution_count": null,
      "outputs": [
        {
          "output_type": "stream",
          "name": "stdout",
          "text": [
            "Pontosság: 0.355\n"
          ]
        }
      ]
    },
    {
      "cell_type": "code",
      "source": [
        "# Osztályozási jelentés és konfúziós mátrix\n",
        "print(\"\\nOsztályozási jelentés:\")\n",
        "print(classification_report(y_test, y_pred))\n",
        "\n",
        "print(\"\\nKonfúziós mátrix:\")\n",
        "print(confusion_matrix(y_test, y_pred))"
      ],
      "metadata": {
        "colab": {
          "base_uri": "https://localhost:8080/"
        },
        "id": "ZbmNjX2WaNjY",
        "outputId": "c7faf91d-3df4-473d-f9e6-c91c0924fe64"
      },
      "execution_count": null,
      "outputs": [
        {
          "output_type": "stream",
          "name": "stdout",
          "text": [
            "\n",
            "Osztályozási jelentés:\n",
            "              precision    recall  f1-score   support\n",
            "\n",
            "         0.0       0.27      0.25      0.26        59\n",
            "         1.0       0.39      0.38      0.38        74\n",
            "         2.0       0.39      0.42      0.40        67\n",
            "\n",
            "    accuracy                           0.36       200\n",
            "   macro avg       0.35      0.35      0.35       200\n",
            "weighted avg       0.35      0.35      0.35       200\n",
            "\n",
            "\n",
            "Konfúziós mátrix:\n",
            "[[15 25 19]\n",
            " [21 28 25]\n",
            " [20 19 28]]\n"
          ]
        }
      ]
    },
    {
      "cell_type": "markdown",
      "source": [
        "2. **Random forest** osztályozó modell\n",
        "\n"
      ],
      "metadata": {
        "id": "5nIXYXHQbFjl"
      }
    },
    {
      "cell_type": "code",
      "source": [
        "# paraméterezés\n",
        "model_rf = RandomForestClassifier(n_estimators=500 , oob_score = True, n_jobs = -1,\n",
        "                                  random_state =50,max_leaf_nodes = 30)\n",
        "# fitting the model\n",
        "model_rf.fit(X_train, y_train)\n",
        "\n",
        "# make predictions\n",
        "prediction_test = model_rf.predict(X_test)"
      ],
      "metadata": {
        "id": "huVdXQqXbBLf"
      },
      "execution_count": null,
      "outputs": []
    },
    {
      "cell_type": "code",
      "source": [
        "# a modell teljesítményének értékelés\n",
        "model_performance(y_test,prediction_test, 'Random Forest')"
      ],
      "metadata": {
        "colab": {
          "base_uri": "https://localhost:8080/"
        },
        "id": "4a99GZTAbm7S",
        "outputId": "fda96872-a031-406a-a3f7-85e58d74531e"
      },
      "execution_count": null,
      "outputs": [
        {
          "output_type": "stream",
          "name": "stdout",
          "text": [
            "Accuracy score of the model 0.37\n",
            "Classification report \n",
            "\n",
            "              precision    recall  f1-score   support\n",
            "\n",
            "         0.0       0.28      0.14      0.18        59\n",
            "         1.0       0.42      0.39      0.41        74\n",
            "         2.0       0.36      0.55      0.44        67\n",
            "\n",
            "    accuracy                           0.37       200\n",
            "   macro avg       0.35      0.36      0.34       200\n",
            "weighted avg       0.36      0.37      0.35       200\n",
            "\n",
            "[[ 8 20 31]\n",
            " [11 29 34]\n",
            " [10 20 37]]\n"
          ]
        }
      ]
    },
    {
      "cell_type": "markdown",
      "source": [
        "A modellek értékelésére és finomhangolására keresztezéses validációt használhatunk, hogy objektíven értékelhessük a modellek teljesítményét"
      ],
      "metadata": {
        "id": "3NNnmTA31M7j"
      }
    },
    {
      "cell_type": "code",
      "source": [
        "# keresztvalidáció\n",
        "from sklearn.model_selection import RepeatedStratifiedKFold\n",
        "# apply k-fold cross validation\n",
        "cv = RepeatedStratifiedKFold(n_splits=10, n_repeats=3, random_state=1)\n",
        "n_scores = cross_val_score(model_rf, X_train, y_train, scoring='accuracy', cv=cv, n_jobs=-1, error_score='raise')\n",
        "\n",
        "# report performance\n",
        "print('Accuracy: %.3f (%.3f)' % (np.mean(n_scores), np.std(n_scores)))"
      ],
      "metadata": {
        "colab": {
          "base_uri": "https://localhost:8080/"
        },
        "id": "5JVllskebu0Z",
        "outputId": "ace604fe-8074-4a53-8e4b-21f680fe38c1"
      },
      "execution_count": null,
      "outputs": [
        {
          "output_type": "stream",
          "name": "stdout",
          "text": [
            "Accuracy: 0.367 (0.050)\n"
          ]
        }
      ]
    },
    {
      "cell_type": "markdown",
      "source": [
        "Modell hangolása A RandomForest osztályozó teljesítményének optimalizálásához a különböző hiperparaméterek értékein un. rácsos keresést alkalmazhatunk. A hiperparaméter-értékek különböző kombinációinak szisztematikus vizsgálatával megtalálhatjuk azt a konfigurációt, amely javítja a modell előrejelző képességeit. Ez a folyamat lehetővé teszi számunkra a RandomForest osztályozó finomhangolását és a paraméterbeállítások optimális egyensúlyának elérését, ami végső soron javítja az általános pontosságát és robusztusságát.\n",
        "A GridSearchCV segítségével megadhatjuk ezeket a lehetséges értékeket, és a GridSearchCV végigpróbál minden lehetséges kombinációt, majd megtalálja a legjobbat."
      ],
      "metadata": {
        "id": "CvFLWJpIj0Sj"
      }
    },
    {
      "cell_type": "code",
      "source": [
        "# a paraméter rács randomizált kialakítása\n",
        "param_grid = {\n",
        "    'bootstrap': [True],\n",
        "    'max_depth': [80, 90],\n",
        "    'n_estimators': [200, 500],\n",
        "    'max_leaf_nodes' : [20, 30]\n",
        "}\n",
        "\n",
        "# A grid search modell indítása\n",
        "grid_search = GridSearchCV(estimator = model_rf, param_grid = param_grid,\n",
        "                          cv = 3, n_jobs = -1, verbose = 2)\n",
        "# Fit the grid search to the data\n",
        "grid_search.fit(X_train, y_train)\n"
      ],
      "metadata": {
        "colab": {
          "base_uri": "https://localhost:8080/",
          "height": 174
        },
        "id": "hiXoyDHRcyYu",
        "outputId": "85cf384d-9c21-4a7e-8fb9-4914f3bd1bb9"
      },
      "execution_count": null,
      "outputs": [
        {
          "output_type": "stream",
          "name": "stdout",
          "text": [
            "Fitting 3 folds for each of 8 candidates, totalling 24 fits\n"
          ]
        },
        {
          "output_type": "execute_result",
          "data": {
            "text/plain": [
              "GridSearchCV(cv=3,\n",
              "             estimator=RandomForestClassifier(max_leaf_nodes=30,\n",
              "                                              n_estimators=500, n_jobs=-1,\n",
              "                                              oob_score=True, random_state=50),\n",
              "             n_jobs=-1,\n",
              "             param_grid={'bootstrap': [True], 'max_depth': [80, 90],\n",
              "                         'max_leaf_nodes': [20, 30],\n",
              "                         'n_estimators': [200, 500]},\n",
              "             verbose=2)"
            ],
            "text/html": [
              "<style>#sk-container-id-2 {color: black;background-color: white;}#sk-container-id-2 pre{padding: 0;}#sk-container-id-2 div.sk-toggleable {background-color: white;}#sk-container-id-2 label.sk-toggleable__label {cursor: pointer;display: block;width: 100%;margin-bottom: 0;padding: 0.3em;box-sizing: border-box;text-align: center;}#sk-container-id-2 label.sk-toggleable__label-arrow:before {content: \"▸\";float: left;margin-right: 0.25em;color: #696969;}#sk-container-id-2 label.sk-toggleable__label-arrow:hover:before {color: black;}#sk-container-id-2 div.sk-estimator:hover label.sk-toggleable__label-arrow:before {color: black;}#sk-container-id-2 div.sk-toggleable__content {max-height: 0;max-width: 0;overflow: hidden;text-align: left;background-color: #f0f8ff;}#sk-container-id-2 div.sk-toggleable__content pre {margin: 0.2em;color: black;border-radius: 0.25em;background-color: #f0f8ff;}#sk-container-id-2 input.sk-toggleable__control:checked~div.sk-toggleable__content {max-height: 200px;max-width: 100%;overflow: auto;}#sk-container-id-2 input.sk-toggleable__control:checked~label.sk-toggleable__label-arrow:before {content: \"▾\";}#sk-container-id-2 div.sk-estimator input.sk-toggleable__control:checked~label.sk-toggleable__label {background-color: #d4ebff;}#sk-container-id-2 div.sk-label input.sk-toggleable__control:checked~label.sk-toggleable__label {background-color: #d4ebff;}#sk-container-id-2 input.sk-hidden--visually {border: 0;clip: rect(1px 1px 1px 1px);clip: rect(1px, 1px, 1px, 1px);height: 1px;margin: -1px;overflow: hidden;padding: 0;position: absolute;width: 1px;}#sk-container-id-2 div.sk-estimator {font-family: monospace;background-color: #f0f8ff;border: 1px dotted black;border-radius: 0.25em;box-sizing: border-box;margin-bottom: 0.5em;}#sk-container-id-2 div.sk-estimator:hover {background-color: #d4ebff;}#sk-container-id-2 div.sk-parallel-item::after {content: \"\";width: 100%;border-bottom: 1px solid gray;flex-grow: 1;}#sk-container-id-2 div.sk-label:hover label.sk-toggleable__label {background-color: #d4ebff;}#sk-container-id-2 div.sk-serial::before {content: \"\";position: absolute;border-left: 1px solid gray;box-sizing: border-box;top: 0;bottom: 0;left: 50%;z-index: 0;}#sk-container-id-2 div.sk-serial {display: flex;flex-direction: column;align-items: center;background-color: white;padding-right: 0.2em;padding-left: 0.2em;position: relative;}#sk-container-id-2 div.sk-item {position: relative;z-index: 1;}#sk-container-id-2 div.sk-parallel {display: flex;align-items: stretch;justify-content: center;background-color: white;position: relative;}#sk-container-id-2 div.sk-item::before, #sk-container-id-2 div.sk-parallel-item::before {content: \"\";position: absolute;border-left: 1px solid gray;box-sizing: border-box;top: 0;bottom: 0;left: 50%;z-index: -1;}#sk-container-id-2 div.sk-parallel-item {display: flex;flex-direction: column;z-index: 1;position: relative;background-color: white;}#sk-container-id-2 div.sk-parallel-item:first-child::after {align-self: flex-end;width: 50%;}#sk-container-id-2 div.sk-parallel-item:last-child::after {align-self: flex-start;width: 50%;}#sk-container-id-2 div.sk-parallel-item:only-child::after {width: 0;}#sk-container-id-2 div.sk-dashed-wrapped {border: 1px dashed gray;margin: 0 0.4em 0.5em 0.4em;box-sizing: border-box;padding-bottom: 0.4em;background-color: white;}#sk-container-id-2 div.sk-label label {font-family: monospace;font-weight: bold;display: inline-block;line-height: 1.2em;}#sk-container-id-2 div.sk-label-container {text-align: center;}#sk-container-id-2 div.sk-container {/* jupyter's `normalize.less` sets `[hidden] { display: none; }` but bootstrap.min.css set `[hidden] { display: none !important; }` so we also need the `!important` here to be able to override the default hidden behavior on the sphinx rendered scikit-learn.org. See: https://github.com/scikit-learn/scikit-learn/issues/21755 */display: inline-block !important;position: relative;}#sk-container-id-2 div.sk-text-repr-fallback {display: none;}</style><div id=\"sk-container-id-2\" class=\"sk-top-container\"><div class=\"sk-text-repr-fallback\"><pre>GridSearchCV(cv=3,\n",
              "             estimator=RandomForestClassifier(max_leaf_nodes=30,\n",
              "                                              n_estimators=500, n_jobs=-1,\n",
              "                                              oob_score=True, random_state=50),\n",
              "             n_jobs=-1,\n",
              "             param_grid={&#x27;bootstrap&#x27;: [True], &#x27;max_depth&#x27;: [80, 90],\n",
              "                         &#x27;max_leaf_nodes&#x27;: [20, 30],\n",
              "                         &#x27;n_estimators&#x27;: [200, 500]},\n",
              "             verbose=2)</pre><b>In a Jupyter environment, please rerun this cell to show the HTML representation or trust the notebook. <br />On GitHub, the HTML representation is unable to render, please try loading this page with nbviewer.org.</b></div><div class=\"sk-container\" hidden><div class=\"sk-item sk-dashed-wrapped\"><div class=\"sk-label-container\"><div class=\"sk-label sk-toggleable\"><input class=\"sk-toggleable__control sk-hidden--visually\" id=\"sk-estimator-id-2\" type=\"checkbox\" ><label for=\"sk-estimator-id-2\" class=\"sk-toggleable__label sk-toggleable__label-arrow\">GridSearchCV</label><div class=\"sk-toggleable__content\"><pre>GridSearchCV(cv=3,\n",
              "             estimator=RandomForestClassifier(max_leaf_nodes=30,\n",
              "                                              n_estimators=500, n_jobs=-1,\n",
              "                                              oob_score=True, random_state=50),\n",
              "             n_jobs=-1,\n",
              "             param_grid={&#x27;bootstrap&#x27;: [True], &#x27;max_depth&#x27;: [80, 90],\n",
              "                         &#x27;max_leaf_nodes&#x27;: [20, 30],\n",
              "                         &#x27;n_estimators&#x27;: [200, 500]},\n",
              "             verbose=2)</pre></div></div></div><div class=\"sk-parallel\"><div class=\"sk-parallel-item\"><div class=\"sk-item\"><div class=\"sk-label-container\"><div class=\"sk-label sk-toggleable\"><input class=\"sk-toggleable__control sk-hidden--visually\" id=\"sk-estimator-id-3\" type=\"checkbox\" ><label for=\"sk-estimator-id-3\" class=\"sk-toggleable__label sk-toggleable__label-arrow\">estimator: RandomForestClassifier</label><div class=\"sk-toggleable__content\"><pre>RandomForestClassifier(max_leaf_nodes=30, n_estimators=500, n_jobs=-1,\n",
              "                       oob_score=True, random_state=50)</pre></div></div></div><div class=\"sk-serial\"><div class=\"sk-item\"><div class=\"sk-estimator sk-toggleable\"><input class=\"sk-toggleable__control sk-hidden--visually\" id=\"sk-estimator-id-4\" type=\"checkbox\" ><label for=\"sk-estimator-id-4\" class=\"sk-toggleable__label sk-toggleable__label-arrow\">RandomForestClassifier</label><div class=\"sk-toggleable__content\"><pre>RandomForestClassifier(max_leaf_nodes=30, n_estimators=500, n_jobs=-1,\n",
              "                       oob_score=True, random_state=50)</pre></div></div></div></div></div></div></div></div></div></div>"
            ]
          },
          "metadata": {},
          "execution_count": 78
        }
      ]
    },
    {
      "cell_type": "code",
      "source": [
        "grid_search.best_params_"
      ],
      "metadata": {
        "colab": {
          "base_uri": "https://localhost:8080/"
        },
        "id": "VGGwZd5sdNJU",
        "outputId": "5c53ba02-ed1e-4452-912b-ac35148ee600"
      },
      "execution_count": null,
      "outputs": [
        {
          "output_type": "execute_result",
          "data": {
            "text/plain": [
              "{'bootstrap': True, 'max_depth': 80, 'max_leaf_nodes': 20, 'n_estimators': 200}"
            ]
          },
          "metadata": {},
          "execution_count": 79
        }
      ]
    },
    {
      "cell_type": "markdown",
      "source": [
        "Feature Importance Scores (változók fontossága)\n",
        "A Random Forest a jellemző fontosságát annak értékelésével számítják ki, hogy az egyes jellemzők mennyire járulnak hozzá a keveredés (osztályozásban) vagy a hiba (regresszióban) csökkentéséhez, amikor a döntési fák együttesén belüli felosztási kritériumként használják őket. Azokat a jellemzőket, amelyek következetesen tisztább csomópontokhoz vagy alacsonyabb hibához vezetnek, fontosabbnak tekintik, és a jellemzők kiválasztásának alapjául szolgálnak."
      ],
      "metadata": {
        "id": "v7ZOK6lykLfs"
      }
    },
    {
      "cell_type": "code",
      "source": [
        "forest_importances = pd.Series(model_rf.feature_importances_, index=X.columns.values)\n",
        "std = np.std([tree.feature_importances_ for tree in model_rf.estimators_], axis=0)\n",
        "\n",
        "fig, ax = plt.subplots()\n",
        "forest_importances.plot.bar(yerr=std, ax=ax)\n",
        "ax.set_title(\"Feature importances using MDI\")\n",
        "ax.set_ylabel(\"Mean decrease in impurity\")\n",
        "fig.tight_layout()"
      ],
      "metadata": {
        "colab": {
          "base_uri": "https://localhost:8080/",
          "height": 487
        },
        "id": "3AfQ5PEbdSmD",
        "outputId": "ee6dad4b-d31e-4349-e2bb-1c81e434390f"
      },
      "execution_count": null,
      "outputs": [
        {
          "output_type": "display_data",
          "data": {
            "text/plain": [
              "<Figure size 640x480 with 1 Axes>"
            ],
            "image/png": "[encoded data removed]"
          },
          "metadata": {}
        }
      ]
    },
    {
      "cell_type": "markdown",
      "source": [
        "A legfontosabb változók:\n",
        "1.   food\n",
        "2.   entertainment\n",
        "3.   technology\n",
        "4.   miscellaneous"
      ],
      "metadata": {
        "id": "L42tP6d_kdug"
      }
    },
    {
      "cell_type": "markdown",
      "source": [
        "3. XGBOOST\n",
        "\n",
        "Extreme Gradient Boosting, erőteljes gépi tanuló algortimus, amely klasszifikációs és regressziós feladatokra is használható. Az algoritmus alpja a döntési fa módszer, az XGBoost több un. gyenge tanuló algortimust épít fel, és ezekkel folyamatosan javítja modell pontosságát. Megvizsgáljuk, hogy az XGBOOST jobb eredményt ad-e, mint a Random Forest."
      ],
      "metadata": {
        "id": "CbKiCKJkko25"
      }
    },
    {
      "cell_type": "code",
      "source": [
        "# A változók sztenderdizálása\n",
        "sc = StandardScaler()\n",
        "X_train = sc.fit_transform(X_train)\n",
        "X_test = sc.transform(X_test)\n",
        "\n",
        "# egydimenziós vektorrá alakítás\n",
        "y_train = np.array(y_train).reshape((-1, ))\n",
        "y_test = np.array(y_test).reshape((-1, ))\n",
        "\n",
        "# Az XGBClassifier importja\n",
        "from xgboost import XGBClassifier\n",
        "\n",
        "# A modell tanítása\n",
        "model_xgb = XGBClassifier(learning_rate=0.01,\n",
        "                            n_estimators=50,\n",
        "                            max_depth=6,\n",
        "                            random_state=42,\n",
        "                            n_jobs=-1)\n",
        "model_xgb.fit(X_train,y_train)\n",
        "y_pred = model_xgb.predict(X_test)"
      ],
      "metadata": {
        "id": "eUISS9A1di5W"
      },
      "execution_count": null,
      "outputs": []
    },
    {
      "cell_type": "code",
      "source": [
        "model_performance(y_test,y_pred, 'XGBoost')"
      ],
      "metadata": {
        "colab": {
          "base_uri": "https://localhost:8080/"
        },
        "id": "lre4SWI3dxq-",
        "outputId": "a3d37373-db25-48ed-ead7-b7abb92e351d"
      },
      "execution_count": null,
      "outputs": [
        {
          "output_type": "stream",
          "name": "stdout",
          "text": [
            "Accuracy score of the model 0.34\n",
            "Classification report \n",
            "\n",
            "              precision    recall  f1-score   support\n",
            "\n",
            "         0.0       0.22      0.19      0.20        59\n",
            "         1.0       0.43      0.39      0.41        74\n",
            "         2.0       0.34      0.42      0.38        67\n",
            "\n",
            "    accuracy                           0.34       200\n",
            "   macro avg       0.33      0.33      0.33       200\n",
            "weighted avg       0.34      0.34      0.34       200\n",
            "\n",
            "[[11 21 27]\n",
            " [18 29 27]\n",
            " [21 18 28]]\n"
          ]
        }
      ]
    },
    {
      "cell_type": "code",
      "source": [],
      "metadata": {
        "id": "uLZZICpF1ZBU"
      },
      "execution_count": null,
      "outputs": []
    },
    {
      "cell_type": "markdown",
      "source": [
        " Nincs javulás a Random  foresthez képest."
      ],
      "metadata": {
        "id": "-SGCeYbOebpG"
      }
    },
    {
      "cell_type": "code",
      "source": [
        "# gridsearch\n",
        "# grid search for the XGBClassifier\n",
        "clf = GridSearchCV(\n",
        "        model_xgb,\n",
        "        {\"max_depth\": [2, 4, 6], \"n_estimators\": [50, 100, 200]},\n",
        "        verbose=1,\n",
        "        n_jobs=2,\n",
        "    )\n",
        "clf.fit(X_train,y_train)\n",
        "print(clf.best_score_)\n",
        "print(clf.best_params_)"
      ],
      "metadata": {
        "colab": {
          "base_uri": "https://localhost:8080/"
        },
        "id": "ty_3lnZlenVx",
        "outputId": "a110b78c-9b69-486e-eda7-bb351891205f"
      },
      "execution_count": null,
      "outputs": [
        {
          "output_type": "stream",
          "name": "stdout",
          "text": [
            "Fitting 5 folds for each of 9 candidates, totalling 45 fits\n",
            "0.35875\n",
            "{'max_depth': 2, 'n_estimators': 200}\n"
          ]
        }
      ]
    },
    {
      "cell_type": "markdown",
      "source": [
        "Mivel a célváltozó több mint két osztályból áll (többosztályos probléma), és az ROC AUC (Receiver Operating Characteristic Area Under the Curve) érték csak bináris osztályozásra használható. Az ROC AUC számítása olyan problémákra van tervezve, ahol csak két osztály van.\n",
        "\n",
        "Ha a célváltozóm többosztályos, akkor más értékelési metrikát kell használni a keresztvalidáció során. Például az egyik lehetőség a accuracy, ami az osztályozási pontosságot méri."
      ],
      "metadata": {
        "id": "tXM82BqahRvM"
      }
    },
    {
      "cell_type": "code",
      "source": [
        "# Az \"preferred_payment_method\" oszlop értékeinek átalakítása binárisra\n",
        "student_spending[\"preferred_payment_method\"] = (student_spending[\"preferred_payment_method\"] == \"Cash\").astype(int)\n",
        "\n",
        "# Átalakított adatok ellenőrzése\n",
        "#print(student_spending.head())\n",
        "\n",
        "from sklearn.model_selection import cross_val_score\n",
        "import xgboost as xgb\n",
        "from xgboost import XGBClassifier\n",
        "\n",
        "# XGBoost osztály definiálása\n",
        "model_xgb = XGBClassifier(objective=\"binary:logistic\", colsample_bytree=0.3, learning_rate=0.1,\n",
        "                           max_depth=5, alpha=10)\n",
        "\n",
        "# Keresztvalidáció\n",
        "scores = cross_val_score(model_xgb, X, y, cv=3, scoring='accuracy')\n",
        "\n",
        "# Eredmények kiírása\n",
        "print(\"Pontosság átlagos értéke:\", scores.mean())"
      ],
      "metadata": {
        "colab": {
          "base_uri": "https://localhost:8080/"
        },
        "id": "BffOBkLFg0u2",
        "outputId": "b0b4b200-6361-4aa8-8df5-f2bbdc79bbd0"
      },
      "execution_count": null,
      "outputs": [
        {
          "output_type": "stream",
          "name": "stdout",
          "text": [
            "Pontosság átlagos értéke: 0.3389826952701204\n"
          ]
        }
      ]
    },
    {
      "cell_type": "markdown",
      "source": [
        "\n",
        "# **Következtetés**:\n",
        "\n",
        "A vizsgált adatokon végzett modellezés során több algoritmust is kipróbáltam, köztük a Döntési Fa, Random Forest és XGBoost modelleket. Az eredmények alapján mindhárom modell hasonló pontosságot mutatott, körülbelül 33-37% körüli értéket. Az adatok előfeldolgozása és a hiperparaméterek hangolása sem vezetett jelentős javuláshoz a modell teljesítményében.\n",
        "\n",
        "A feature importance elemzés során megfigyelhető, hogy az étel, szórakozás, technológia és egyéb kiadások jelentős befolyással bírnak a preferált fizetési módszerre. Ezek az eredmények érthetőek és életképesek lehetnek egy diák szempontjából, és arra utalnak, hogy a modellünk megfelelően figyelembe veszi ezeket a tényezőket.\n",
        "\n",
        "Az eddigi eredmények alapján a jelenlegi modellek még nem rendelkeznek elég pontos előrejelzéssel a preferált fizetési módszer meghatározására."
      ],
      "metadata": {
        "id": "srrpMHrXi0pN"
      }
    }
  ]
}